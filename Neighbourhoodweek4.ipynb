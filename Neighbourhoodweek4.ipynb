{
    "cells": [
        {
            "cell_type": "markdown",
            "metadata": {
                "collapsed": true
            },
            "source": "# The Battle of Neighbourhood Week4"
        },
        {
            "cell_type": "markdown",
            "metadata": {},
            "source": "## Problem Description and background discussion of the problem"
        },
        {
            "cell_type": "markdown",
            "metadata": {},
            "source": "**1.1. Background**"
        },
        {
            "cell_type": "markdown",
            "metadata": {},
            "source": "Toronto, the capital of the province of Ontario, is the most populous Canadian city with a population of 2,731,571 as of 2016. It is a global city filled with vast opportunity and is home to an array of distinctive and dynamic neighborhoods that reflect the diversity of its population. The city is also known for its vibrant arts and entertainment scene, incredible cultural festivals, delicious food, excellent shopping, thriving business, beautiful parks and beaches, and much more. According to the Youthful Cities Index, 2015, Toronto is considered be the top 10 most appealing cities to live and work. Diversity truly is Toronto\u2019s strength, making the city a dynamic, progressive and welcoming place to work and live."
        },
        {
            "cell_type": "markdown",
            "metadata": {},
            "source": "**1.2. Problem Description**"
        },
        {
            "cell_type": "markdown",
            "metadata": {},
            "source": "Now let me explain the context of this project through a scenario. Say you are a retailer and wanted to open a grocery store in the city of Toronto in Canada. As a retailer, the central location and the large crowd would provide a great distribution channel to market your products and services. Particularly, the location of the grocery store is one of the most important decisions that will determine whether the store will be a success or a failure. Wouldn\u2019t be great if you are able to analyze the neighborhoods in Toronto which are most profitable since the success of the store depends on the population and location?"
        },
        {
            "cell_type": "markdown",
            "metadata": {},
            "source": "**1.3. Objective**"
        },
        {
            "cell_type": "markdown",
            "metadata": {},
            "source": "The aim of this project is to study and analyze the neighborhoods of Toronto city and group them into similar clusters and, to analyze those clusters to find out those neighborhoods that are more profitable to open a new grocery store. Using data science methodology and machine learning techniques like clustering, this project aims to provide solutions to answer the business question: \nIn the city of Toronto, Canada, if a retailer is looking to open a new grocery store, where would you recommend that they open it?  "
        },
        {
            "cell_type": "markdown",
            "metadata": {},
            "source": "## Source details of the data and how it will be used to solve the problem."
        },
        {
            "cell_type": "markdown",
            "metadata": {},
            "source": "To solve the problem, we will need the following data: \n\na) Toronto City data. \n* Data source: https://en.wikipedia.org/wiki/List_of_postal_codes_of_Canada:_M\n* \tDescription: The data contains the postal code, borough & the name of all the neighborhoods present in Toronto.\n\nb) Geospace data for each neighborhood in Toronto City.\n*\tData source: http://cocl.us/Geospatial_data/Geospatial_Coordinates.csv file\n*\tDescription: The data contains the geographical coordinates i.e. latitudes and longitudes of the neighborhoods. \n\nc) Venue data, particularly data related to grocery store. \n* \tData source: https://developer.foursquare.com/docs\n* \tDescription: Foursquare\u2019s explore API gives details such as names, categories and locations (latitude and longitude).\n"
        },
        {
            "cell_type": "markdown",
            "metadata": {},
            "source": "** Methodology**"
        },
        {
            "cell_type": "markdown",
            "metadata": {},
            "source": "To start with our analysis, firstly, we need to get the list of neighborhoods in the city of Toronto. The list is available in Wikipedia page, we will do web scraping using Python requests to extract the list of neighborhoods data. However, we need to get the geographical coordinates in the form of latitude and longitude in order to be able to use Foursquare API. In order to do so, we will fetch the coordinate data for all the neighborhoods in in the city of Toronto using the csv file. After gathering the data, we will populate the data into a pandas DataFrame. Next, we will combine both the dataframes i.e. the dataframe with the coordinate data and the dataframe with the list of neighborhoods. Then, we will visualize the neighborhoods in the city of Toronto on a map using Folium package. This will ensure that the geographical coordinate data returned by csv file are correctly plotted in the city of Toronto.\n\nNext, we will utilize Foursquare API to explore the neighborhoods. We will set the LIMIT parameter to 100, and Radius to 1000 meter. This will return the top 100 venues that are within a radius of 1000 meters. To do so, we need to register a Foursquare Developer Account. After registering, we will obtain the Foursquare ID and Foursquare secret key. Then, we will make API calls to Foursquare passing in the geographical coordinates of the neighborhoods in a Python loop. Foursquare will return the venue data in JSON format and we will extract the venue name, venue category, venue latitude and longitude. This will give us number of venues returned for each neighbourhood and then we can examine number of unique categories curated from all the returned venues. Then, we will analyze each neighbourhood by grouping the rows by neighbourhood and taking the mean of the frequency of occurrence of each venue category. \n"
        },
        {
            "cell_type": "code",
            "execution_count": null,
            "metadata": {},
            "outputs": [],
            "source": ""
        }
    ],
    "metadata": {
        "kernelspec": {
            "display_name": "Python 3.6",
            "language": "python",
            "name": "python3"
        },
        "language_info": {
            "codemirror_mode": {
                "name": "ipython",
                "version": 3
            },
            "file_extension": ".py",
            "mimetype": "text/x-python",
            "name": "python",
            "nbconvert_exporter": "python",
            "pygments_lexer": "ipython3",
            "version": "3.6.9"
        }
    },
    "nbformat": 4,
    "nbformat_minor": 1
}